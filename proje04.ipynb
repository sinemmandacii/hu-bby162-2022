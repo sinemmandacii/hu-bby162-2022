{
  "nbformat": 4,
  "nbformat_minor": 0,
  "metadata": {
    "colab": {
      "name": "proje04.ipynb",
      "provenance": [],
      "mount_file_id": "https://github.com/sinemmandacii/hu-bby162-2022/blob/main/proje04.ipynb",
      "authorship_tag": "ABX9TyPlgUOlMjf1C3Kxv/wV7cD9",
      "include_colab_link": true
    },
    "kernelspec": {
      "name": "python3",
      "display_name": "Python 3"
    },
    "language_info": {
      "name": "python"
    }
  },
  "cells": [
    {
      "cell_type": "markdown",
      "metadata": {
        "id": "view-in-github",
        "colab_type": "text"
      },
      "source": [
        "<a href=\"https://colab.research.google.com/github/sinemmandacii/hu-bby162-2022/blob/main/proje04.ipynb\" target=\"_parent\"><img src=\"https://colab.research.google.com/assets/colab-badge.svg\" alt=\"Open In Colab\"/></a>"
      ]
    },
    {
      "cell_type": "code",
      "execution_count": 2,
      "metadata": {
        "colab": {
          "base_uri": "https://localhost:8080/"
        },
        "id": "FqMNN2U4K9zW",
        "outputId": "1eaa4cba-f2f1-4be4-b0de-76170077ab75"
      },
      "outputs": [
        {
          "output_type": "stream",
          "name": "stdout",
          "text": [
            "HOŞGELDİNİZ :) \n",
            "KÜTÜPHANE KATALOĞU SİSTEMİNE GİRİŞ YAPILIYOR.. \n",
            "Yapmak istediğiniz işlemi seçiniz 0)çıkış 1)kayıt ekle 2)kayıt ara: 1\n",
            "eser adını giriniz: İNTİBAH\n",
            "yazar adını giriniz: NAMIK KEMAL\n",
            "basım yılını giriniz: 2011\n",
            "yayınevini giriniz: HOMER KİTABEVİ\n",
            "KÜTÜPHANE KATALOĞU SİSTEMİNE GİRİŞ YAPILIYOR.. \n",
            "Yapmak istediğiniz işlemi seçiniz 0)çıkış 1)kayıt ekle 2)kayıt ara: 1\n",
            "eser adını giriniz: İNCE MEMED\n",
            "yazar adını giriniz: YAŞAR KEMAL\n",
            "basım yılını giriniz: 1955\n",
            "yayınevini giriniz: ÇAĞLAYAN KİTABEVİ\n",
            "KÜTÜPHANE KATALOĞU SİSTEMİNE GİRİŞ YAPILIYOR.. \n",
            "Yapmak istediğiniz işlemi seçiniz 0)çıkış 1)kayıt ekle 2)kayıt ara: 1\n",
            "eser adını giriniz: HUZURSUZLUK\n",
            "yazar adını giriniz: ÖMER ZÜLFÜ LİVANELİ\n",
            "basım yılını giriniz: 2017\n",
            "yayınevini giriniz: DOĞAN KİTAP\n",
            "KÜTÜPHANE KATALOĞU SİSTEMİNE GİRİŞ YAPILIYOR.. \n",
            "Yapmak istediğiniz işlemi seçiniz 0)çıkış 1)kayıt ekle 2)kayıt ara: 2\n",
            "Aramak istediğiniz eser: İNTİBAH\n",
            "Aranan kitap bulundu\n",
            "KÜTÜPHANE KATALOĞU SİSTEMİNE GİRİŞ YAPILIYOR.. \n",
            "Yapmak istediğiniz işlemi seçiniz 0)çıkış 1)kayıt ekle 2)kayıt ara: 2\n",
            "Aramak istediğiniz eser: İNCE MEMED\n",
            "Aranan kitap bulundu\n",
            "KÜTÜPHANE KATALOĞU SİSTEMİNE GİRİŞ YAPILIYOR.. \n",
            "Yapmak istediğiniz işlemi seçiniz 0)çıkış 1)kayıt ekle 2)kayıt ara: 2\n",
            "Aramak istediğiniz eser: HUZURSUZLUK\n",
            "Aranan kitap bulundu\n",
            "KÜTÜPHANE KATALOĞU SİSTEMİNE GİRİŞ YAPILIYOR.. \n",
            "Yapmak istediğiniz işlemi seçiniz 0)çıkış 1)kayıt ekle 2)kayıt ara: 0\n",
            "SİSTEMDEN ÇIKTINIZ! GÜLE GÜLE :) \n"
          ]
        }
      ],
      "source": [
        "#kütüphane kataloğu oluşturma\n",
        "\n",
        "dosya = \"/content/drive/MyDrive/Colab Notebooks/veritabani.txt\"\n",
        "print(\"HOŞGELDİNİZ :) \")\n",
        "\n",
        "def kayitEkle():\n",
        "  eser = input(\"eser adını giriniz: \")\n",
        "  yazar = input(\"yazar adını giriniz: \")\n",
        "  basim = input(\"basım yılını giriniz: \")\n",
        "  yayinevi = input(\"yayınevini giriniz: \")\n",
        "  \n",
        "def kayitAra():\n",
        "  aranan = input(\"Aramak istediğiniz eser: \")\n",
        "  if aranan:\n",
        "    print(\"Aranan kitap bulundu\")\n",
        "  else:\n",
        "    print(\"Aranan kitap bulunamadı\")\n",
        "\n",
        "def menu():\n",
        "  while True:\n",
        "    print(\"KÜTÜPHANE KATALOĞU SİSTEMİNE GİRİŞ YAPILIYOR.. \")\n",
        "    secim = input(\"Yapmak istediğiniz işlemi seçiniz 0)çıkış 1)kayıt ekle 2)kayıt ara: \")\n",
        "    if secim == \"1\":\n",
        "      kayitEkle()\n",
        "    elif secim == \"2\":\n",
        "      kayitAra()\n",
        "    elif secim == \"0\":\n",
        "      print(\"SİSTEMDEN ÇIKTINIZ! GÜLE GÜLE :) \")\n",
        "      break\n",
        "    else:\n",
        "      print(\"Yapmak istediğiniz işlemi seçiniz: \")\n",
        "\n",
        "menu()      "
      ]
    }
  ]
}