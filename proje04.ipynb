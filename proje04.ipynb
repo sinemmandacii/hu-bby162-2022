{
  "nbformat": 4,
  "nbformat_minor": 0,
  "metadata": {
    "colab": {
      "name": "Untitled1.ipynb",
      "provenance": [],
      "authorship_tag": "ABX9TyP9uXFHMP89i73t3DHGy0TK",
      "include_colab_link": true
    },
    "kernelspec": {
      "name": "python3",
      "display_name": "Python 3"
    },
    "language_info": {
      "name": "python"
    }
  },
  "cells": [
    {
      "cell_type": "markdown",
      "metadata": {
        "id": "view-in-github",
        "colab_type": "text"
      },
      "source": [
        "<a href=\"https://colab.research.google.com/github/sinemmandacii/hu-bby162-2022/blob/main/proje04.ipynb\" target=\"_parent\"><img src=\"https://colab.research.google.com/assets/colab-badge.svg\" alt=\"Open In Colab\"/></a>"
      ]
    },
    {
      "cell_type": "code",
      "execution_count": 34,
      "metadata": {
        "colab": {
          "base_uri": "https://localhost:8080/",
          "height": 443
        },
        "id": "cIvcQcWdSad-",
        "outputId": "c4cff0d3-3d2c-423c-e34b-676194aaa7d4"
      },
      "outputs": [
        {
          "name": "stdout",
          "output_type": "stream",
          "text": [
            "1. kayıt ekle: \n",
            "2. kayıt listele: \n",
            "3. kayıt ara: \n",
            "4. programdan çık: \n",
            "lütfen bir işlem seçiniz(1-4):1\n"
          ]
        },
        {
          "output_type": "error",
          "ename": "TypeError",
          "evalue": "ignored",
          "traceback": [
            "\u001b[0;31m---------------------------------------------------------------------------\u001b[0m",
            "\u001b[0;31mTypeError\u001b[0m                                 Traceback (most recent call last)",
            "\u001b[0;32m<ipython-input-34-ccef3c96a051>\u001b[0m in \u001b[0;36m<module>\u001b[0;34m()\u001b[0m\n\u001b[1;32m     56\u001b[0m \u001b[0;34m\u001b[0m\u001b[0m\n\u001b[1;32m     57\u001b[0m \u001b[0;34m\u001b[0m\u001b[0m\n\u001b[0;32m---> 58\u001b[0;31m \u001b[0mmenu\u001b[0m\u001b[0;34m(\u001b[0m\u001b[0;34m)\u001b[0m\u001b[0;34m\u001b[0m\u001b[0;34m\u001b[0m\u001b[0m\n\u001b[0m\u001b[1;32m     59\u001b[0m \u001b[0;34m\u001b[0m\u001b[0m\n\u001b[1;32m     60\u001b[0m \u001b[0;34m\u001b[0m\u001b[0m\n",
            "\u001b[0;32m<ipython-input-34-ccef3c96a051>\u001b[0m in \u001b[0;36mmenu\u001b[0;34m()\u001b[0m\n\u001b[1;32m     48\u001b[0m     \u001b[0mseciminiz\u001b[0m\u001b[0;34m=\u001b[0m \u001b[0mint\u001b[0m\u001b[0;34m(\u001b[0m\u001b[0minput\u001b[0m\u001b[0;34m(\u001b[0m\u001b[0;34m\"lütfen bir işlem seçiniz(1-4):\"\u001b[0m\u001b[0;34m)\u001b[0m\u001b[0;34m)\u001b[0m\u001b[0;34m\u001b[0m\u001b[0;34m\u001b[0m\u001b[0m\n\u001b[1;32m     49\u001b[0m     \u001b[0;32mif\u001b[0m \u001b[0mseciminiz\u001b[0m\u001b[0;34m<=\u001b[0m\u001b[0;36m4\u001b[0m \u001b[0;32mand\u001b[0m \u001b[0mseciminiz\u001b[0m\u001b[0;34m>=\u001b[0m\u001b[0;36m1\u001b[0m\u001b[0;34m:\u001b[0m\u001b[0;34m\u001b[0m\u001b[0;34m\u001b[0m\u001b[0m\n\u001b[0;32m---> 50\u001b[0;31m       \u001b[0mkütüphaneListesi\u001b[0m\u001b[0;34m[\u001b[0m\u001b[0mseciminiz\u001b[0m\u001b[0;34m-\u001b[0m\u001b[0;36m1\u001b[0m\u001b[0;34m]\u001b[0m\u001b[0;34m(\u001b[0m\u001b[0;34m)\u001b[0m\u001b[0;34m\u001b[0m\u001b[0;34m\u001b[0m\u001b[0m\n\u001b[0m\u001b[1;32m     51\u001b[0m     \u001b[0;32melif\u001b[0m \u001b[0mseciminiz\u001b[0m\u001b[0;34m==\u001b[0m\u001b[0;36m0\u001b[0m\u001b[0;34m:\u001b[0m\u001b[0;34m\u001b[0m\u001b[0;34m\u001b[0m\u001b[0m\n\u001b[1;32m     52\u001b[0m       \u001b[0mprint\u001b[0m\u001b[0;34m(\u001b[0m\u001b[0;34m\"çıkış yapılıyor\"\u001b[0m\u001b[0;34m)\u001b[0m\u001b[0;34m\u001b[0m\u001b[0;34m\u001b[0m\u001b[0m\n",
            "\u001b[0;31mTypeError\u001b[0m: 'str' object is not callable"
          ]
        }
      ],
      "source": [
        "#Uygulama bir menüye sahip olmalı ve uygulama ilk çalıştığında menü ekrana gelmelidir.\n",
        "#Menüden yapılan seçime göre ilgili işlem fonksiyon içinden çağrılarak ekranda görüntülenmelidir.\n",
        "#Menü öğeleri:\n",
        "#Kayıtları listele\n",
        "#Yeni kayıt ekle\n",
        "#Kayıt ara\n",
        "#Çıkış\n",
        "#Katalog kayıtlarının alanları:\n",
        "#Kitap adı\n",
        "#Yazar adı\n",
        "#Basım yılı\n",
        "#Yayınevi\n",
        "#Arama özelliğinin sahip olması gereken kriterler:\n",
        "#Klavyeden girilen arama kelimesine göre katalogda kitap var mı yok mu bu tespit edilecek.\n",
        "#Eğer ilgili kitap varsa kitabın / kitapların künye bilgileri ekrana getirilecek.\n",
        "\n",
        "\n",
        "\n",
        "KitapAdıListe= []\n",
        "YazarAdıListe= []\n",
        "BasımYılıListe= []\n",
        "YayıneviListe= []\n",
        "\n",
        "def kayitEkle():\n",
        "  print(\"kayıt ekleme işlemi\")\n",
        "  kitapAdı= input(\"kitap adı giriniz:\")\n",
        "  yazarAdı= input(\"yazar adı giriniz:\")\n",
        "  basımYılı= int(input(\"basım yılı giriniz:\"))\n",
        "  yayınevi= input(\"yayınevi adı giriniz:\")\n",
        "  KitapAdıListe.append(kitapAdı)\n",
        "  YazarAdıListe.append(yazarAdı)\n",
        "  BasımYılıListe.append(basımYılı)\n",
        "  YayıneviListe.append(yayınevi)\n",
        "  print(\"kayıt eklendi\")\n",
        "def kayitListele():\n",
        "  print(\"tüm kayıt listesi\")\n",
        "def kayitArama():\n",
        "  print(\"kayıt arama seçeneği seçildi\")\n",
        "\n",
        "def menu():\n",
        "\n",
        "  kütüphaneListesi= [\"kayitEkle\",\"kayitListele\",\"kayitArama\"] \n",
        "  while True:\n",
        "    print(\"1. kayıt ekle: \")\n",
        "    print(\"2. kayıt listele: \")\n",
        "    print(\"3. kayıt ara: \")\n",
        "    print(\"4. programdan çık: \")\n",
        "    seciminiz= int(input(\"lütfen bir işlem seçiniz(1-4):\"))\n",
        "    if seciminiz<=4 and seciminiz>=1:\n",
        "      kütüphaneListesi[seciminiz-1]()\n",
        "    elif seciminiz==0:\n",
        "      print(\"çıkış yapılıyor\")\n",
        "      break\n",
        "    else:\n",
        "      print(\"lütfen seçim için 1 ile 4 arasında bir rakam seçin! \")\n",
        "\n",
        "\n",
        "menu()\n",
        "\n",
        "\n"
      ]
    }
  ]
}