{
  "nbformat": 4,
  "nbformat_minor": 0,
  "metadata": {
    "colab": {
      "name": "proje01.ipynb",
      "provenance": [],
      "collapsed_sections": [],
      "authorship_tag": "ABX9TyN4PFEqD+6Oy2OFXrBWU0Gy",
      "include_colab_link": true
    },
    "kernelspec": {
      "name": "python3",
      "display_name": "Python 3"
    },
    "language_info": {
      "name": "python"
    }
  },
  "cells": [
    {
      "cell_type": "markdown",
      "metadata": {
        "id": "view-in-github",
        "colab_type": "text"
      },
      "source": [
        "<a href=\"https://colab.research.google.com/github/sinemmandacii/hu-bby162-2022/blob/main/proje01.ipynb\" target=\"_parent\"><img src=\"https://colab.research.google.com/assets/colab-badge.svg\" alt=\"Open In Colab\"/></a>"
      ]
    },
    {
      "cell_type": "code",
      "execution_count": 11,
      "metadata": {
        "colab": {
          "base_uri": "https://localhost:8080/",
          "height": 130
        },
        "id": "A9ebYYkg6hSC",
        "outputId": "14a6864d-4468-472e-cb78-4fb327a01e78"
      },
      "outputs": [
        {
          "output_type": "error",
          "ename": "IndentationError",
          "evalue": "ignored",
          "traceback": [
            "\u001b[0;36m  File \u001b[0;32m\"<ipython-input-11-b64d88575cda>\"\u001b[0;36m, line \u001b[0;32m9\u001b[0m\n\u001b[0;31m    print(\"İndeks dışı giriş..!\")\u001b[0m\n\u001b[0m    ^\u001b[0m\n\u001b[0;31mIndentationError\u001b[0m\u001b[0;31m:\u001b[0m unexpected indent\n"
          ]
        }
      ],
      "source": [
        "liste = [\"tavşan\",\"marul\",\"leopar\",\"salam\",\"demir\",\"tahta\"]\n",
        "secim = int(input(\"İndeks numarasını giriniz:\"))\n",
        "listeToplam = len(liste)\n",
        "if secim < listeToplam:\n",
        "   print(liste[secim])\n",
        "   print(\"Seçiminiz doğru!\")\n",
        "else:\n",
        "   print(\"İndeks dışı giriş..!\")"
      ]
    }
  ]
}