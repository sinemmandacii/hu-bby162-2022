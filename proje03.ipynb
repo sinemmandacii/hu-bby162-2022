{
  "nbformat": 4,
  "nbformat_minor": 0,
  "metadata": {
    "colab": {
      "name": "proje03.ipynb",
      "provenance": [],
      "authorship_tag": "ABX9TyPeUwL0n96XavdTkoSuBwm3",
      "include_colab_link": true
    },
    "kernelspec": {
      "name": "python3",
      "display_name": "Python 3"
    },
    "language_info": {
      "name": "python"
    }
  },
  "cells": [
    {
      "cell_type": "markdown",
      "metadata": {
        "id": "view-in-github",
        "colab_type": "text"
      },
      "source": [
        "<a href=\"https://colab.research.google.com/github/sinemmandacii/hu-bby162-2022/blob/main/proje03.ipynb\" target=\"_parent\"><img src=\"https://colab.research.google.com/assets/colab-badge.svg\" alt=\"Open In Colab\"/></a>"
      ]
    },
    {
      "cell_type": "code",
      "execution_count": null,
      "metadata": {
        "id": "qGZMBmD-BmYt"
      },
      "outputs": [],
      "source": [
        ""
      ]
    },
    {
      "cell_type": "code",
      "execution_count": 2,
      "metadata": {
        "id": "miWMXOaXL2IG",
        "colab": {
          "base_uri": "https://localhost:8080/"
        },
        "outputId": "a3f1de52-5966-42d7-8a5a-639121867fdb"
      },
      "outputs": [
        {
          "output_type": "stream",
          "name": "stdout",
          "text": [
            "TESTİMİZE HOŞ GELDİNİZ!\n",
            "cevaplarınızı YES ya da NO olarak giriniz.\n",
            "Soru 1: Bugün hava yağmurlu mu?\n",
            "YES/NOYES\n",
            "cevabınız doğru!\n",
            "Soru 2: Yaşın 30'dan az mı? \n",
            "YES/NOYES\n",
            "cevabınız doğru!\n",
            "Soru 3: İyi misin?\n",
            "YES/NOyes\n",
            "cevabınız yanlış!\n",
            "Soru 4: Yemekler güzel mi?\n",
            "YES/NONO\n",
            "cevabınız doğru!\n",
            "Soru 5: Tok musun?\n",
            "YES/NONO\n",
            "cevabınız doğru!\n",
            "Toplam puanınız: 80\n",
            "TEBRİKLER,KAZANDINIZ!!!\n"
          ]
        }
      ],
      "source": [
        "print(\"TESTİMİZE HOŞ GELDİNİZ!\")\n",
        "print(\"cevaplarınızı YES ya da NO olarak giriniz.\")\n",
        "\n",
        "sorular = [\"Bugün hava yağmurlu mu?\",\"Yaşın 30'dan az mı? \",\"İyi misin?\",\"Yemekler güzel mi?\",\"Tok musun?\"]\n",
        "cevaplar = [\"YES\",\"YES\",\"YES\",\"NO\",\"NO\"]\n",
        " \n",
        "def testCalistir():\n",
        "  soruNo = 0\n",
        "  cevapNo = 0\n",
        "  puan = 0\n",
        "  for soru in sorular:\n",
        "    soruNo +=1\n",
        "    print(\"Soru \" + str(soruNo) +\": \" + soru)\n",
        "    cevap = input(\"YES/NO\")\n",
        "    if cevap == cevaplar[cevapNo]:\n",
        "      print(\"cevabınız doğru!\")\n",
        "      puan +=1\n",
        "    else:\n",
        "      print(\"cevabınız yanlış!\")\n",
        "    cevapNo +=1\n",
        "  toplamPuan = int((puan/soruNo)*100)\n",
        "  print(\"Toplam puanınız: \" + str(toplamPuan))    \n",
        "  if toplamPuan >= 60:\n",
        "    print(\"TEBRİKLER,KAZANDINIZ!!!\")\n",
        "  else:\n",
        "    print(\"UPPSS,ÜZGÜNÜM KAYBETTİNİZ!!!\")\n",
        "    tekrar = input(\"Tekrar denemek ister misiniz? [evet/hayır]: \")\n",
        "    if tekrar == \"evet\":\n",
        "      testCalistir()\n",
        "    else:\n",
        "      print(\"Testin sonuna geldiniz.\")  \n",
        "  \n",
        "testCalistir()"
      ]
    }
  ]
}