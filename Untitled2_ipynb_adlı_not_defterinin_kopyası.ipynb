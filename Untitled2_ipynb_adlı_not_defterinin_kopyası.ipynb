{
  "nbformat": 4,
  "nbformat_minor": 0,
  "metadata": {
    "colab": {
      "name": "Untitled2.ipynb adlı not defterinin kopyası",
      "provenance": [],
      "authorship_tag": "ABX9TyNx2Jh7K74GX9vrpHig+TYJ",
      "include_colab_link": true
    },
    "kernelspec": {
      "name": "python3",
      "display_name": "Python 3"
    },
    "language_info": {
      "name": "python"
    }
  },
  "cells": [
    {
      "cell_type": "markdown",
      "metadata": {
        "id": "view-in-github",
        "colab_type": "text"
      },
      "source": [
        "<a href=\"https://colab.research.google.com/github/sinemmandacii/hu-bby162-2022/blob/main/Untitled2_ipynb_adl%C4%B1_not_defterinin_kopyas%C4%B1.ipynb\" target=\"_parent\"><img src=\"https://colab.research.google.com/assets/colab-badge.svg\" alt=\"Open In Colab\"/></a>"
      ]
    },
    {
      "cell_type": "code",
      "execution_count": 16,
      "metadata": {
        "colab": {
          "base_uri": "https://localhost:8080/"
        },
        "id": "FqMNN2U4K9zW",
        "outputId": "61b9265f-546f-478d-d9ef-4868a4c31c23"
      },
      "outputs": [
        {
          "output_type": "stream",
          "name": "stdout",
          "text": [
            "HOŞGELDİNİZ\n",
            "/nKÜTÜPHANE KATALOĞU SİSTEMİNE GİRİŞ YAPILIYOR.. \n",
            "Yapmak istediğiniz işlemi seçiniz 0)çıkış 1)kayıt ekle 2)kayıt listele 3)kayıt ara: 1\n",
            "eser adını giriniz: İNTİBAH\n",
            "yazar adını giriniz: NAMIK KEMAL\n",
            "basım yılını giriniz: 2011\n",
            "yayınevini giriniz: HOMER KİTABEVİ\n",
            "/nKÜTÜPHANE KATALOĞU SİSTEMİNE GİRİŞ YAPILIYOR.. \n",
            "Yapmak istediğiniz işlemi seçiniz 0)çıkış 1)kayıt ekle 2)kayıt listele 3)kayıt ara: 3\n",
            "Aramak istediğiniz eser: İNTİBAH\n",
            "Aranan kitap bulundu\n",
            "/nKÜTÜPHANE KATALOĞU SİSTEMİNE GİRİŞ YAPILIYOR.. \n",
            "Yapmak istediğiniz işlemi seçiniz 0)çıkış 1)kayıt ekle 2)kayıt listele 3)kayıt ara: 0\n",
            "SİSTEMDEN ÇIKTINIZ!\n"
          ]
        }
      ],
      "source": [
        "#kütüphane kataloğu oluşturma\n",
        "\n",
        "dosya = \"/content/drive/MyDrive/Colab Notebooks/veritabani.txt\"\n",
        "\n",
        "print(\"HOŞGELDİNİZ\")\n",
        "  \n",
        "def kayitEkle():\n",
        "  eser = input(\"eser adını giriniz: \")\n",
        "  yazar = input(\"yazar adını giriniz: \")\n",
        "  basim = input(\"basım yılını giriniz: \")\n",
        "  yayinevi = input(\"yayınevini giriniz: \")\n",
        "\n",
        "def kayitAra():\n",
        "  aranan = input(\"Aramak istediğiniz eser: \")\n",
        "  if aranan:\n",
        "    print(\"Aranan kitap bulundu\")\n",
        "  else:\n",
        "    print(\"Aranan kitap bulunamadı\")\n",
        "\n",
        "def menu():\n",
        "  while True:\n",
        "    print(\"/nKÜTÜPHANE KATALOĞU SİSTEMİNE GİRİŞ YAPILIYOR.. \")\n",
        "    secim = input(\"Yapmak istediğiniz işlemi seçiniz 0)çıkış 1)kayıt ekle 2)kayıt listele 3)kayıt ara: \")\n",
        "    if secim == \"1\":\n",
        "      kayitEkle()\n",
        "    elif secim == \"2\":\n",
        "      kayitListele()\n",
        "    elif secim == \"3\":\n",
        "      kayitAra()\n",
        "    elif secim == \"0\":\n",
        "      print(\"SİSTEMDEN ÇIKTINIZ!\")\n",
        "      break\n",
        "    else:\n",
        "      print(\"Yapmak istediğiniz işlemi seçiniz: \")\n",
        "\n",
        "menu()      "
      ]
    }
  ]
}